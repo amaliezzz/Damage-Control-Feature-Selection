{
 "cells": [
  {
   "cell_type": "markdown",
   "id": "31b159cc",
   "metadata": {},
   "source": [
    "### Validación del Modelo con Aumento de Datos"
   ]
  },
  {
   "cell_type": "code",
   "execution_count": 2,
   "id": "630f5cef",
   "metadata": {},
   "outputs": [],
   "source": [
    "import pandas as pd\n",
    "import numpy as np\n",
    "from sklearn.metrics import f1_score\n",
    "from sklearn.model_selection import LeaveOneOut\n"
   ]
  },
  {
   "cell_type": "code",
   "execution_count": 3,
   "id": "787269c6",
   "metadata": {},
   "outputs": [],
   "source": [
    "# Cargar el archivo CSV con los datos procesados en un DataFrame de pandas\n",
    "data = pd.read_csv('../datos/new_datos.csv')"
   ]
  },
  {
   "cell_type": "code",
   "execution_count": 4,
   "id": "58440fae",
   "metadata": {},
   "outputs": [],
   "source": [
    "# Separar las características de la variable objetivo en el DataFrame\n",
    "X,y = data.drop('Estado al egreso', axis=1), data['Estado al egreso']"
   ]
  },
  {
   "cell_type": "code",
   "execution_count": 5,
   "id": "3bfbbfc6",
   "metadata": {},
   "outputs": [],
   "source": [
    "import pickle as pkl\n",
    "\n",
    "# Cargar el modelo Random Forest previamente guardado desde el archivo .pkl\n",
    "with open('../modelos/new_rf.pkl', 'rb') as file:\n",
    "    best_rf = pkl.load(file)"
   ]
  },
  {
   "cell_type": "markdown",
   "id": "4cc09ac2",
   "metadata": {},
   "source": [
    "El análisis del conjunto de datos ampliado aplicó SMOTE (Synthetic Minority Oversampling Technique) para balancear las clases, manteniendo la consistencia metodológica con el proceso original de selección de modelos y utilizando el modelo Random Forest preentrenado optimizado con las 5 características clave."
   ]
  },
  {
   "cell_type": "code",
   "execution_count": 6,
   "id": "7903790b",
   "metadata": {},
   "outputs": [
    {
     "name": "stdout",
     "output_type": "stream",
     "text": [
      "\n",
      "==================================================\n",
      "Resultados con SMOTE (5 features):\n",
      "F1: 0.963, Precision: 0.929, Recall: 1.000\n",
      "==================================================\n"
     ]
    }
   ],
   "source": [
    "from collections import Counter\n",
    "from imblearn.over_sampling import SMOTE\n",
    "from sklearn.model_selection import LeaveOneOut\n",
    "from sklearn.metrics import f1_score, precision_score, recall_score\n",
    "\n",
    "loo = LeaveOneOut()\n",
    "y_true = []\n",
    "y_pred = []\n",
    "\n",
    "# Validación Leave-One-Out con aplicación dinámica de SMOTE en cada iteración de entrenamiento\n",
    "for train_idx, test_idx in loo.split(X):\n",
    "    X_train, X_test = X.iloc[train_idx], X.iloc[test_idx]\n",
    "    y_train, y_test = y.iloc[train_idx], y.iloc[test_idx]\n",
    "    \n",
    "    # Contar cantidad de muestras de la clase minoritaria en el conjunto de entrenamiento\n",
    "    n_minority = min(Counter(y_train).values())\n",
    "\n",
    "    # Ajustar k_neighbors para SMOTE según el número de muestras minoritarias (mínimo 5 o menor si hay pocas muestras)\n",
    "    k = min(5, n_minority - 1) \n",
    "    \n",
    "    # Aplicar SMOTE solo si hay suficientes muestras minoritarias para generar sintéticos\n",
    "    if n_minority > 1 and k > 0:\n",
    "        smote = SMOTE(k_neighbors=k, random_state=42)\n",
    "        X_res, y_res = smote.fit_resample(X_train, y_train)\n",
    "    else:\n",
    "        # Si no hay suficientes muestras, usar los datos originales sin sobremuestreo\n",
    "        X_res, y_res = X_train, y_train\n",
    "    \n",
    "    # Entrenar el modelo Random Forest con los datos balanceados\n",
    "    model = best_rf\n",
    "    model.fit(X_res, y_res)\n",
    "\n",
    "    # Predecir la muestra de prueba\n",
    "    y_pred_i = model.predict(X_test)\n",
    "    \n",
    "    # Guardar etiquetas reales y predichas para evaluación posterior\n",
    "    y_true.append(y_test.values[0])\n",
    "    y_pred.append(y_pred_i[0])\n",
    "\n",
    "# Calcular métricas\n",
    "f1 = f1_score(y_true, y_pred)\n",
    "precision = precision_score(y_true, y_pred, zero_division=0)\n",
    "recall = recall_score(y_true, y_pred)\n",
    "\n",
    "print(\"\\n\" + \"=\"*50)\n",
    "print(f\"Resultados con SMOTE (5 features):\")\n",
    "print(f\"F1: {f1:.3f}, Precision: {precision:.3f}, Recall: {recall:.3f}\")\n",
    "print(\"=\"*50)"
   ]
  },
  {
   "cell_type": "markdown",
   "id": "8f6eda8d",
   "metadata": {},
   "source": [
    "Los resultados demostraron métricas de desempeño comparables entre el modelo original y el modelo aumentado con SMOTE (F1 ~0.96), lo que indica que:\n",
    "\n",
    "- El modelo ya era robusto: el Random Forest original (5 características) generalizó bien sin necesidad de datos sintéticos.\n",
    "\n",
    "- Beneficio limitado del sobremuestreo: dado que el rendimiento no mejoró, es probable que los datos de entrenamiento iniciales capturaran suficientemente los patrones clínicos subyacentes.\n",
    "\n",
    "- Fronteras de decisión estables: la lógica predictiva del modelo se mantuvo consistente incluso con la ampliación de los conjuntos de entrenamiento, lo que sugiere que no depende excesivamente de puntos de datos específicos.\n"
   ]
  }
 ],
 "metadata": {
  "kernelspec": {
   "display_name": "base",
   "language": "python",
   "name": "python3"
  },
  "language_info": {
   "codemirror_mode": {
    "name": "ipython",
    "version": 3
   },
   "file_extension": ".py",
   "mimetype": "text/x-python",
   "name": "python",
   "nbconvert_exporter": "python",
   "pygments_lexer": "ipython3",
   "version": "3.12.7"
  }
 },
 "nbformat": 4,
 "nbformat_minor": 5
}
