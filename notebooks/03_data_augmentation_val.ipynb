{
 "cells": [
  {
   "cell_type": "markdown",
   "id": "31b159cc",
   "metadata": {},
   "source": [
    "### Data Augmentation and Model Validation"
   ]
  },
  {
   "cell_type": "code",
   "execution_count": 1,
   "id": "630f5cef",
   "metadata": {},
   "outputs": [],
   "source": [
    "import pandas as pd\n",
    "import numpy as np\n",
    "from sklearn.metrics import f1_score\n",
    "from sklearn.model_selection import LeaveOneOut\n"
   ]
  },
  {
   "cell_type": "code",
   "execution_count": 2,
   "id": "787269c6",
   "metadata": {},
   "outputs": [],
   "source": [
    "data = pd.read_csv('../data/new_data.csv')"
   ]
  },
  {
   "cell_type": "code",
   "execution_count": 3,
   "id": "58440fae",
   "metadata": {},
   "outputs": [],
   "source": [
    "X,y = data.drop('Estado al egreso', axis=1), data['Estado al egreso']"
   ]
  },
  {
   "cell_type": "code",
   "execution_count": 4,
   "id": "3bfbbfc6",
   "metadata": {},
   "outputs": [],
   "source": [
    "import pickle as pkl\n",
    "\n",
    "with open('../models/new_rf.pkl', 'rb') as file:\n",
    "    best_rf = pkl.load(file)"
   ]
  },
  {
   "cell_type": "markdown",
   "id": "4cc09ac2",
   "metadata": {},
   "source": [
    "For the expanded dataset analysis, SMOTE (Synthetic Minority Oversampling Technique) was applied while maintaining methodological consistency with our original model selection process and using the pre-trained Random Forest model (optimized with 5 key features)"
   ]
  },
  {
   "cell_type": "code",
   "execution_count": 5,
   "id": "7903790b",
   "metadata": {},
   "outputs": [
    {
     "name": "stdout",
     "output_type": "stream",
     "text": [
      "\n",
      "==================================================\n",
      "Resultados con SMOTE (5 features):\n",
      "F1: 0.963, Precision: 0.929, Recall: 1.000\n",
      "==================================================\n"
     ]
    }
   ],
   "source": [
    "from collections import Counter\n",
    "from imblearn.over_sampling import SMOTE\n",
    "from sklearn.model_selection import LeaveOneOut\n",
    "from sklearn.metrics import f1_score, precision_score, recall_score\n",
    "\n",
    "loo = LeaveOneOut()\n",
    "y_true = []\n",
    "y_pred = []\n",
    "\n",
    "for train_idx, test_idx in loo.split(X):\n",
    "    X_train, X_test = X.iloc[train_idx], X.iloc[test_idx]\n",
    "    y_train, y_test = y.iloc[train_idx], y.iloc[test_idx]\n",
    "    \n",
    "    n_minority = min(Counter(y_train).values())\n",
    "    k = min(5, n_minority - 1) \n",
    "    \n",
    "    \n",
    "    if n_minority > 1 and k > 0:\n",
    "        smote = SMOTE(k_neighbors=k, random_state=42)\n",
    "        X_res, y_res = smote.fit_resample(X_train, y_train)\n",
    "    else:\n",
    "        X_res, y_res = X_train, y_train\n",
    "    \n",
    "    model = best_rf\n",
    "    model.fit(X_res, y_res)\n",
    "    y_pred_i = model.predict(X_test)\n",
    "    \n",
    "    y_true.append(y_test.values[0])\n",
    "    y_pred.append(y_pred_i[0])\n",
    "\n",
    "f1 = f1_score(y_true, y_pred)\n",
    "precision = precision_score(y_true, y_pred, zero_division=0)\n",
    "recall = recall_score(y_true, y_pred)\n",
    "\n",
    "print(\"\\n\" + \"=\"*50)\n",
    "print(f\"Resultados con SMOTE (5 features):\")\n",
    "print(f\"F1: {f1:.3f}, Precision: {precision:.3f}, Recall: {recall:.3f}\")\n",
    "print(\"=\"*50)"
   ]
  },
  {
   "cell_type": "markdown",
   "id": "9c18fdd3",
   "metadata": {},
   "source": [
    "#### Conclusions:"
   ]
  },
  {
   "cell_type": "markdown",
   "id": "8f6eda8d",
   "metadata": {},
   "source": [
    "The results demonstrated comparable performance metrics between the original and SMOTE-augmented models (F1 ~0.96), indicating that:\n",
    "\n",
    "- The model was already robust – The original Random Forest (5 features) generalized well without requiring synthetic data.\n",
    "\n",
    "- Limited benefit from oversampling – Since performance did not improve, the initial training data likely captured the underlying clinical patterns sufficiently.\n",
    "\n",
    "- Stable decision boundaries – The model’s predictive logic remained consistent even with expanded training folds, suggesting no over-reliance on specific data points.\n",
    "\n"
   ]
  }
 ],
 "metadata": {
  "kernelspec": {
   "display_name": "base",
   "language": "python",
   "name": "python3"
  },
  "language_info": {
   "codemirror_mode": {
    "name": "ipython",
    "version": 3
   },
   "file_extension": ".py",
   "mimetype": "text/x-python",
   "name": "python",
   "nbconvert_exporter": "python",
   "pygments_lexer": "ipython3",
   "version": "3.12.7"
  }
 },
 "nbformat": 4,
 "nbformat_minor": 5
}
